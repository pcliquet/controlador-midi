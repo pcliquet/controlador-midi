{
 "cells": [
  {
   "cell_type": "markdown",
   "id": "fd102416",
   "metadata": {},
   "source": [
    "# Projeto 1 - Embarcados\n",
    "\n",
    "Dupla: Arthur Fonseca; Pedro Cliquet do Amaral;\n",
    "\n",
    "## Controladora Midi bluetooth\n",
    "\n",
    "Uma controladora midi bluetooth, utilizando a biblioteca \"mido\" para traduzir os comandos enviados pelo hardware criado para midi. Os componentes do hardware são:\n",
    "\n",
    "- 8x Pads de pressão\n",
    "\n",
    "- 5x Potenciometros de 10K $\\Omega$\n",
    "\n",
    "- 8x Faders por resistência\n",
    "\n",
    "- Atmel 70emsmdnfka (n lembro o nome)\n",
    "\n",
    "- 3 Protoboards\n",
    "\n",
    "- Módulo bluetooth\n"
   ]
  },
  {
   "cell_type": "markdown",
   "id": "73631fab",
   "metadata": {},
   "source": [
    "Exemplo da biblioteca:\n",
    "\n",
    "![ex](img/projeto_emb.png)"
   ]
  },
  {
   "cell_type": "markdown",
   "id": "a5defd6e",
   "metadata": {},
   "source": [
    "A ideia do projeto é trabalhar em conjunto com DAW, conhecido como Ableton live. O controlador bluetooth irá auxiliar com a construção da música, controles de parametros (volume, delay,reverb) e com as notas (tom e a velocity da nota). \n",
    "\n",
    "Os \"pads\" de pressão serão responsáveis pelo controle das notas. A escolha se deve pela capacidade de medir a pressão com que foram clicados. Dessa forma, é possível determinar a intensidade da nota relacionando a pressão no dispositivo, ou seja, quando maior a pressão, maior será o velocity da nota.\n",
    "\n",
    "Com os faders controla-se o volume dos canais, o controle ocorrerá de acordo com a resistência do fader. Já a resistência dos potenciometros controlará o dry/wet que é a porcentagem de atuação do efeito no audio.\n"
   ]
  },
  {
   "cell_type": "markdown",
   "id": "26168f4c",
   "metadata": {},
   "source": [
    "O desafio do projeto será enviar as mensagens de controle e traduzir para midi em tempo real. É possível há existência de um delay entre o software e o hardware, o que perde um pouco a função de tocar as notas. Entretanto, para a construção da música será eficiente, devido a escolha de disparo dos samples/midis prontos."
   ]
  },
  {
   "cell_type": "code",
   "execution_count": null,
   "id": "8f85cdd3",
   "metadata": {},
   "outputs": [],
   "source": []
  },
  {
   "cell_type": "markdown",
   "id": "ff62eeaf",
   "metadata": {},
   "source": [
    "Instale a biblioteca mido\n",
    "\n",
    "pip3 install mido\n",
    "\n",
    "E a biblioteca liportmidi, para utilizar o hardware como midi\n",
    "\n",
    "sudo apt install libportmidi-dev\n",
    "\n",
    "Necessário para efetuar a porta midi, e seu backend sera:\n",
    "\n",
    "portmidi.so      (Linux)"
   ]
  },
  {
   "cell_type": "code",
   "execution_count": null,
   "id": "014fc100",
   "metadata": {},
   "outputs": [],
   "source": []
  }
 ],
 "metadata": {
  "kernelspec": {
   "display_name": "Python 3 (ipykernel)",
   "language": "python",
   "name": "python3"
  },
  "language_info": {
   "codemirror_mode": {
    "name": "ipython",
    "version": 3
   },
   "file_extension": ".py",
   "mimetype": "text/x-python",
   "name": "python",
   "nbconvert_exporter": "python",
   "pygments_lexer": "ipython3",
   "version": "3.10.6"
  }
 },
 "nbformat": 4,
 "nbformat_minor": 5
}
